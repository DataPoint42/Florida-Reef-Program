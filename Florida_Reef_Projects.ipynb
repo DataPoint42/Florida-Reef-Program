{
 "cells": [
  {
   "cell_type": "code",
   "execution_count": 71,
   "metadata": {},
   "outputs": [
    {
     "name": "stdout",
     "output_type": "stream",
     "text": [
      "C:\\ProgramData\\Anaconda3\\python.exe\n",
      "Python Version 3.8.3 (default, Jul  2 2020, 17:30:36) [MSC v.1916 64 bit (AMD64)]\n",
      "sys.version_info(major=3, minor=8, micro=3, releaselevel='final', serial=0)\n",
      "pandas Version 1.0.5\n",
      "numpy Version 1.18.5\n",
      "Working Directory C:\\Users\\NOREL\n"
     ]
    }
   ],
   "source": [
    "# import exploration files \n",
    "import pandas as pd \n",
    "import numpy as np \n",
    "import matplotlib.pyplot as plt\n",
    "import sys\n",
    "import os\n",
    "\n",
    "file_path = '~\\Downloads\\\\reeflocations.xlsx'\n",
    "\n",
    "# read in data \n",
    "#data = pd.read_csv(file_path)\n",
    "data = pd.read_excel(file_path, sheet_name='Export_Outputpdf')\n",
    "#data = pd.read_excel('~\\Downloads\\\\reeflocations.xlsx', sheet_name='Export_Outputpdf')\n",
    "\n",
    "############################################################################## \n",
    "#Data Exploration\n",
    "##############################################################################\n",
    "\n",
    "\n",
    "print(sys.executable)\n",
    "print('Python Version', sys.version)\n",
    "print(sys.version_info)\n",
    "\n",
    "\n",
    "print('pandas Version', pd.__version__)\n",
    "print('numpy Version', np.__version__)\n",
    "\n",
    "\n",
    "\n",
    "workdirectory = os.getcwd()\n",
    "print('Working Directory ' + workdirectory)\n",
    "\n",
    "\n",
    "\n",
    "\n"
   ]
  },
  {
   "cell_type": "code",
   "execution_count": 30,
   "metadata": {},
   "outputs": [
    {
     "name": "stdout",
     "output_type": "stream",
     "text": [
      "Data Shape (Total Records,Total Columns)\n"
     ]
    },
    {
     "data": {
      "text/plain": [
       "(3683, 11)"
      ]
     },
     "execution_count": 30,
     "metadata": {},
     "output_type": "execute_result"
    }
   ],
   "source": [
    "#rows and columns returns (rows, columns)\n",
    "print('Data Shape (Total Records,Total Columns)')\n",
    "data.shape"
   ]
  },
  {
   "cell_type": "code",
   "execution_count": 21,
   "metadata": {
    "scrolled": true
   },
   "outputs": [
    {
     "name": "stdout",
     "output_type": "stream",
     "text": [
      "Data Head\n"
     ]
    },
    {
     "data": {
      "text/html": [
       "<div>\n",
       "<style scoped>\n",
       "    .dataframe tbody tr th:only-of-type {\n",
       "        vertical-align: middle;\n",
       "    }\n",
       "\n",
       "    .dataframe tbody tr th {\n",
       "        vertical-align: top;\n",
       "    }\n",
       "\n",
       "    .dataframe thead th {\n",
       "        text-align: right;\n",
       "    }\n",
       "</style>\n",
       "<table border=\"1\" class=\"dataframe\">\n",
       "  <thead>\n",
       "    <tr style=\"text-align: right;\">\n",
       "      <th></th>\n",
       "      <th>DeployID</th>\n",
       "      <th>County</th>\n",
       "      <th>DeployDate</th>\n",
       "      <th>Deployment Name</th>\n",
       "      <th>Primary Material</th>\n",
       "      <th>Tons</th>\n",
       "      <th>Relief</th>\n",
       "      <th>Depth</th>\n",
       "      <th>Lat (DM)</th>\n",
       "      <th>Long (DM)</th>\n",
       "      <th>Accuracy</th>\n",
       "    </tr>\n",
       "  </thead>\n",
       "  <tbody>\n",
       "    <tr>\n",
       "      <th>0</th>\n",
       "      <td>BA0475</td>\n",
       "      <td>Bay</td>\n",
       "      <td>2018-07-06 00:00:00</td>\n",
       "      <td>Danny Grizzard</td>\n",
       "      <td>Vessel</td>\n",
       "      <td>35.0</td>\n",
       "      <td>15.0</td>\n",
       "      <td>92.0</td>\n",
       "      <td>29° 59.739' N</td>\n",
       "      <td>85° 51.847' W</td>\n",
       "      <td>High</td>\n",
       "    </tr>\n",
       "    <tr>\n",
       "      <th>1</th>\n",
       "      <td>BA0474</td>\n",
       "      <td>Bay</td>\n",
       "      <td>2019-07-05 00:00:00</td>\n",
       "      <td>Bay County LAARS A Modules</td>\n",
       "      <td>Prefabricated Modules (17)</td>\n",
       "      <td>143.0</td>\n",
       "      <td>18.0</td>\n",
       "      <td>105.0</td>\n",
       "      <td>29° 59.898' N</td>\n",
       "      <td>85° 54.211' W</td>\n",
       "      <td>High</td>\n",
       "    </tr>\n",
       "    <tr>\n",
       "      <th>2</th>\n",
       "      <td>BA0473</td>\n",
       "      <td>Bay</td>\n",
       "      <td>2019-05-21 00:00:00</td>\n",
       "      <td>MB-250 Jay Frost Memorial</td>\n",
       "      <td>Prefabricated Module (1)</td>\n",
       "      <td>2.5</td>\n",
       "      <td>8.0</td>\n",
       "      <td>75.0</td>\n",
       "      <td>29° 55.460' N</td>\n",
       "      <td>85° 36.401' W</td>\n",
       "      <td>High</td>\n",
       "    </tr>\n",
       "    <tr>\n",
       "      <th>3</th>\n",
       "      <td>BA0472</td>\n",
       "      <td>Bay</td>\n",
       "      <td>2019-05-21 00:00:00</td>\n",
       "      <td>MB-253</td>\n",
       "      <td>NaN</td>\n",
       "      <td>28.0</td>\n",
       "      <td>15.0</td>\n",
       "      <td>80.0</td>\n",
       "      <td>29° 55.384' N</td>\n",
       "      <td>85° 39.274' W</td>\n",
       "      <td>High</td>\n",
       "    </tr>\n",
       "    <tr>\n",
       "      <th>4</th>\n",
       "      <td>BA0471</td>\n",
       "      <td>Bay</td>\n",
       "      <td>2019-05-21 00:00:00</td>\n",
       "      <td>MB-252</td>\n",
       "      <td>Prefabricated Modules (5)</td>\n",
       "      <td>28.0</td>\n",
       "      <td>15.0</td>\n",
       "      <td>78.0</td>\n",
       "      <td>29° 55.384' N</td>\n",
       "      <td>85° 39.740' W</td>\n",
       "      <td>High</td>\n",
       "    </tr>\n",
       "  </tbody>\n",
       "</table>\n",
       "</div>"
      ],
      "text/plain": [
       "  DeployID County           DeployDate             Deployment Name  \\\n",
       "0   BA0475    Bay  2018-07-06 00:00:00              Danny Grizzard   \n",
       "1   BA0474    Bay  2019-07-05 00:00:00  Bay County LAARS A Modules   \n",
       "2   BA0473    Bay  2019-05-21 00:00:00   MB-250 Jay Frost Memorial   \n",
       "3   BA0472    Bay  2019-05-21 00:00:00                      MB-253   \n",
       "4   BA0471    Bay  2019-05-21 00:00:00                      MB-252   \n",
       "\n",
       "             Primary Material   Tons  Relief  Depth       Lat (DM)  \\\n",
       "0                      Vessel   35.0    15.0   92.0  29° 59.739' N   \n",
       "1  Prefabricated Modules (17)  143.0    18.0  105.0  29° 59.898' N   \n",
       "2    Prefabricated Module (1)    2.5     8.0   75.0  29° 55.460' N   \n",
       "3                         NaN   28.0    15.0   80.0  29° 55.384' N   \n",
       "4   Prefabricated Modules (5)   28.0    15.0   78.0  29° 55.384' N   \n",
       "\n",
       "       Long (DM) Accuracy  \n",
       "0  85° 51.847' W     High  \n",
       "1  85° 54.211' W     High  \n",
       "2  85° 36.401' W     High  \n",
       "3  85° 39.274' W     High  \n",
       "4  85° 39.740' W     High  "
      ]
     },
     "execution_count": 21,
     "metadata": {},
     "output_type": "execute_result"
    }
   ],
   "source": [
    "#returns the first x number of rows when head(num). Without a number it returns 5\n",
    "print('Data Head')\n",
    "data.head()\n"
   ]
  },
  {
   "cell_type": "code",
   "execution_count": 25,
   "metadata": {
    "scrolled": true
   },
   "outputs": [
    {
     "name": "stdout",
     "output_type": "stream",
     "text": [
      "Data Tail\n"
     ]
    },
    {
     "data": {
      "text/html": [
       "<div>\n",
       "<style scoped>\n",
       "    .dataframe tbody tr th:only-of-type {\n",
       "        vertical-align: middle;\n",
       "    }\n",
       "\n",
       "    .dataframe tbody tr th {\n",
       "        vertical-align: top;\n",
       "    }\n",
       "\n",
       "    .dataframe thead th {\n",
       "        text-align: right;\n",
       "    }\n",
       "</style>\n",
       "<table border=\"1\" class=\"dataframe\">\n",
       "  <thead>\n",
       "    <tr style=\"text-align: right;\">\n",
       "      <th></th>\n",
       "      <th>DeployID</th>\n",
       "      <th>County</th>\n",
       "      <th>DeployDate</th>\n",
       "      <th>Deployment Name</th>\n",
       "      <th>Primary Material</th>\n",
       "      <th>Tons</th>\n",
       "      <th>Relief</th>\n",
       "      <th>Depth</th>\n",
       "      <th>Lat (DM)</th>\n",
       "      <th>Long (DM)</th>\n",
       "      <th>Accuracy</th>\n",
       "    </tr>\n",
       "  </thead>\n",
       "  <tbody>\n",
       "    <tr>\n",
       "      <th>3678</th>\n",
       "      <td>WL0005</td>\n",
       "      <td>Walton</td>\n",
       "      <td>2015-10-03 00:00:00</td>\n",
       "      <td>Grayton Turtle Reef</td>\n",
       "      <td>Reefmaker Ecosystem Reef on Piling (58)</td>\n",
       "      <td>58.0</td>\n",
       "      <td>5.0</td>\n",
       "      <td>19.0</td>\n",
       "      <td>30° 19.331' N</td>\n",
       "      <td>86° 09.483' W</td>\n",
       "      <td>High</td>\n",
       "    </tr>\n",
       "    <tr>\n",
       "      <th>3679</th>\n",
       "      <td>WL0004</td>\n",
       "      <td>Walton</td>\n",
       "      <td>2001-06-18 00:00:00</td>\n",
       "      <td>Frangista Beach Culverts</td>\n",
       "      <td>Culverts (52)</td>\n",
       "      <td>316.0</td>\n",
       "      <td>6.0</td>\n",
       "      <td>77.0</td>\n",
       "      <td>30° 19.752' N</td>\n",
       "      <td>86° 22.910' W</td>\n",
       "      <td>High</td>\n",
       "    </tr>\n",
       "    <tr>\n",
       "      <th>3680</th>\n",
       "      <td>WL0003</td>\n",
       "      <td>Walton</td>\n",
       "      <td>1999-06-30 00:00:00</td>\n",
       "      <td>Walton Hopper Barge</td>\n",
       "      <td>Barge 195'</td>\n",
       "      <td>473.0</td>\n",
       "      <td>12.0</td>\n",
       "      <td>77.0</td>\n",
       "      <td>30° 19.686' N</td>\n",
       "      <td>86° 22.899' W</td>\n",
       "      <td>High</td>\n",
       "    </tr>\n",
       "    <tr>\n",
       "      <th>3681</th>\n",
       "      <td>WL0002</td>\n",
       "      <td>Walton</td>\n",
       "      <td>1997-06-05 00:00:00</td>\n",
       "      <td>Seagrove Reef</td>\n",
       "      <td>Culverts</td>\n",
       "      <td>300.0</td>\n",
       "      <td>0.0</td>\n",
       "      <td>70.0</td>\n",
       "      <td>30° 17.447' N</td>\n",
       "      <td>86° 06.497' W</td>\n",
       "      <td>High</td>\n",
       "    </tr>\n",
       "    <tr>\n",
       "      <th>3682</th>\n",
       "      <td>WL0001</td>\n",
       "      <td>Walton</td>\n",
       "      <td>1995-11-15 00:00:00</td>\n",
       "      <td>Walton #1</td>\n",
       "      <td>Pyramids (65)</td>\n",
       "      <td>0.0</td>\n",
       "      <td>6.0</td>\n",
       "      <td>58.0</td>\n",
       "      <td>30° 15.052' N</td>\n",
       "      <td>86° 01.605' W</td>\n",
       "      <td>High</td>\n",
       "    </tr>\n",
       "  </tbody>\n",
       "</table>\n",
       "</div>"
      ],
      "text/plain": [
       "     DeployID  County           DeployDate           Deployment Name  \\\n",
       "3678   WL0005  Walton  2015-10-03 00:00:00       Grayton Turtle Reef   \n",
       "3679   WL0004  Walton  2001-06-18 00:00:00  Frangista Beach Culverts   \n",
       "3680   WL0003  Walton  1999-06-30 00:00:00       Walton Hopper Barge   \n",
       "3681   WL0002  Walton  1997-06-05 00:00:00             Seagrove Reef   \n",
       "3682   WL0001  Walton  1995-11-15 00:00:00                 Walton #1   \n",
       "\n",
       "                             Primary Material   Tons  Relief  Depth  \\\n",
       "3678  Reefmaker Ecosystem Reef on Piling (58)   58.0     5.0   19.0   \n",
       "3679                            Culverts (52)  316.0     6.0   77.0   \n",
       "3680                               Barge 195'  473.0    12.0   77.0   \n",
       "3681                                 Culverts  300.0     0.0   70.0   \n",
       "3682                            Pyramids (65)    0.0     6.0   58.0   \n",
       "\n",
       "           Lat (DM)      Long (DM) Accuracy  \n",
       "3678  30° 19.331' N  86° 09.483' W     High  \n",
       "3679  30° 19.752' N  86° 22.910' W     High  \n",
       "3680  30° 19.686' N  86° 22.899' W     High  \n",
       "3681  30° 17.447' N  86° 06.497' W     High  \n",
       "3682  30° 15.052' N  86° 01.605' W     High  "
      ]
     },
     "execution_count": 25,
     "metadata": {},
     "output_type": "execute_result"
    }
   ],
   "source": [
    "#returns the last x number of rows when tail(num). Without a number it returns 5\n",
    "print('Data Tail')\n",
    "data.tail()"
   ]
  },
  {
   "cell_type": "code",
   "execution_count": 26,
   "metadata": {
    "scrolled": true
   },
   "outputs": [
    {
     "name": "stdout",
     "output_type": "stream",
     "text": [
      "Data Columns\n"
     ]
    },
    {
     "data": {
      "text/plain": [
       "Index(['DeployID', 'County', 'DeployDate', 'Deployment Name',\n",
       "       'Primary Material', 'Tons', 'Relief', 'Depth', 'Lat (DM)', 'Long (DM)',\n",
       "       'Accuracy'],\n",
       "      dtype='object')"
      ]
     },
     "execution_count": 26,
     "metadata": {},
     "output_type": "execute_result"
    }
   ],
   "source": [
    "#returns an object with all of the column headers \n",
    "print('Data Columns')\n",
    "data.columns"
   ]
  },
  {
   "cell_type": "code",
   "execution_count": 27,
   "metadata": {
    "scrolled": true
   },
   "outputs": [
    {
     "name": "stdout",
     "output_type": "stream",
     "text": [
      "Data Info\n",
      "<class 'pandas.core.frame.DataFrame'>\n",
      "RangeIndex: 3683 entries, 0 to 3682\n",
      "Data columns (total 11 columns):\n",
      " #   Column            Non-Null Count  Dtype  \n",
      "---  ------            --------------  -----  \n",
      " 0   DeployID          3683 non-null   object \n",
      " 1   County            3683 non-null   object \n",
      " 2   DeployDate        3683 non-null   object \n",
      " 3   Deployment Name   3683 non-null   object \n",
      " 4   Primary Material  3680 non-null   object \n",
      " 5   Tons              3682 non-null   float64\n",
      " 6   Relief            3682 non-null   float64\n",
      " 7   Depth             3683 non-null   float64\n",
      " 8   Lat (DM)          3683 non-null   object \n",
      " 9   Long (DM)         3683 non-null   object \n",
      " 10  Accuracy          3683 non-null   object \n",
      "dtypes: float64(3), object(8)\n",
      "memory usage: 316.6+ KB\n"
     ]
    }
   ],
   "source": [
    "#basic information on all columns \n",
    "print('Data Info')\n",
    "data.info()"
   ]
  },
  {
   "cell_type": "code",
   "execution_count": 28,
   "metadata": {
    "scrolled": true
   },
   "outputs": [
    {
     "name": "stdout",
     "output_type": "stream",
     "text": [
      "Data Describe\n"
     ]
    },
    {
     "data": {
      "text/html": [
       "<div>\n",
       "<style scoped>\n",
       "    .dataframe tbody tr th:only-of-type {\n",
       "        vertical-align: middle;\n",
       "    }\n",
       "\n",
       "    .dataframe tbody tr th {\n",
       "        vertical-align: top;\n",
       "    }\n",
       "\n",
       "    .dataframe thead th {\n",
       "        text-align: right;\n",
       "    }\n",
       "</style>\n",
       "<table border=\"1\" class=\"dataframe\">\n",
       "  <thead>\n",
       "    <tr style=\"text-align: right;\">\n",
       "      <th></th>\n",
       "      <th>Tons</th>\n",
       "      <th>Relief</th>\n",
       "      <th>Depth</th>\n",
       "    </tr>\n",
       "  </thead>\n",
       "  <tbody>\n",
       "    <tr>\n",
       "      <th>count</th>\n",
       "      <td>3682.000000</td>\n",
       "      <td>3682.000000</td>\n",
       "      <td>3683.000000</td>\n",
       "    </tr>\n",
       "    <tr>\n",
       "      <th>mean</th>\n",
       "      <td>300.172135</td>\n",
       "      <td>8.768672</td>\n",
       "      <td>61.614445</td>\n",
       "    </tr>\n",
       "    <tr>\n",
       "      <th>std</th>\n",
       "      <td>2166.410946</td>\n",
       "      <td>10.015629</td>\n",
       "      <td>44.903522</td>\n",
       "    </tr>\n",
       "    <tr>\n",
       "      <th>min</th>\n",
       "      <td>0.000000</td>\n",
       "      <td>0.000000</td>\n",
       "      <td>0.000000</td>\n",
       "    </tr>\n",
       "    <tr>\n",
       "      <th>25%</th>\n",
       "      <td>0.000000</td>\n",
       "      <td>3.000000</td>\n",
       "      <td>30.000000</td>\n",
       "    </tr>\n",
       "    <tr>\n",
       "      <th>50%</th>\n",
       "      <td>15.000000</td>\n",
       "      <td>8.000000</td>\n",
       "      <td>58.000000</td>\n",
       "    </tr>\n",
       "    <tr>\n",
       "      <th>75%</th>\n",
       "      <td>120.750000</td>\n",
       "      <td>11.000000</td>\n",
       "      <td>80.000000</td>\n",
       "    </tr>\n",
       "    <tr>\n",
       "      <th>max</th>\n",
       "      <td>100000.000000</td>\n",
       "      <td>167.000000</td>\n",
       "      <td>500.000000</td>\n",
       "    </tr>\n",
       "  </tbody>\n",
       "</table>\n",
       "</div>"
      ],
      "text/plain": [
       "                Tons       Relief        Depth\n",
       "count    3682.000000  3682.000000  3683.000000\n",
       "mean      300.172135     8.768672    61.614445\n",
       "std      2166.410946    10.015629    44.903522\n",
       "min         0.000000     0.000000     0.000000\n",
       "25%         0.000000     3.000000    30.000000\n",
       "50%        15.000000     8.000000    58.000000\n",
       "75%       120.750000    11.000000    80.000000\n",
       "max    100000.000000   167.000000   500.000000"
      ]
     },
     "execution_count": 28,
     "metadata": {},
     "output_type": "execute_result"
    }
   ],
   "source": [
    "#gives basic statistics on numeric columns\n",
    "print('Data Describe')\n",
    "data.describe()"
   ]
  },
  {
   "cell_type": "code",
   "execution_count": 29,
   "metadata": {},
   "outputs": [
    {
     "name": "stdout",
     "output_type": "stream",
     "text": [
      "Data Types\n"
     ]
    },
    {
     "data": {
      "text/plain": [
       "DeployID             object\n",
       "County               object\n",
       "DeployDate           object\n",
       "Deployment Name      object\n",
       "Primary Material     object\n",
       "Tons                float64\n",
       "Relief              float64\n",
       "Depth               float64\n",
       "Lat (DM)             object\n",
       "Long (DM)            object\n",
       "Accuracy             object\n",
       "dtype: object"
      ]
     },
     "execution_count": 29,
     "metadata": {},
     "output_type": "execute_result"
    }
   ],
   "source": [
    "#shows what type the data was read in as (float, int, string, bool, etc.)\n",
    "print('Data Types')\n",
    "data.dtypes"
   ]
  },
  {
   "cell_type": "code",
   "execution_count": 66,
   "metadata": {},
   "outputs": [
    {
     "name": "stdout",
     "output_type": "stream",
     "text": [
      "Data Nulls\n"
     ]
    },
    {
     "data": {
      "text/html": [
       "<div>\n",
       "<style scoped>\n",
       "    .dataframe tbody tr th:only-of-type {\n",
       "        vertical-align: middle;\n",
       "    }\n",
       "\n",
       "    .dataframe tbody tr th {\n",
       "        vertical-align: top;\n",
       "    }\n",
       "\n",
       "    .dataframe thead th {\n",
       "        text-align: right;\n",
       "    }\n",
       "</style>\n",
       "<table border=\"1\" class=\"dataframe\">\n",
       "  <thead>\n",
       "    <tr style=\"text-align: right;\">\n",
       "      <th></th>\n",
       "      <th>DeployID</th>\n",
       "      <th>County</th>\n",
       "      <th>DeployDate</th>\n",
       "      <th>Deployment Name</th>\n",
       "      <th>Primary Material</th>\n",
       "      <th>Tons</th>\n",
       "      <th>Relief</th>\n",
       "      <th>Depth</th>\n",
       "      <th>Lat (DM)</th>\n",
       "      <th>Long (DM)</th>\n",
       "      <th>Accuracy</th>\n",
       "    </tr>\n",
       "  </thead>\n",
       "  <tbody>\n",
       "    <tr>\n",
       "      <th>0</th>\n",
       "      <td>False</td>\n",
       "      <td>False</td>\n",
       "      <td>False</td>\n",
       "      <td>False</td>\n",
       "      <td>False</td>\n",
       "      <td>False</td>\n",
       "      <td>False</td>\n",
       "      <td>False</td>\n",
       "      <td>False</td>\n",
       "      <td>False</td>\n",
       "      <td>False</td>\n",
       "    </tr>\n",
       "    <tr>\n",
       "      <th>1</th>\n",
       "      <td>False</td>\n",
       "      <td>False</td>\n",
       "      <td>False</td>\n",
       "      <td>False</td>\n",
       "      <td>False</td>\n",
       "      <td>False</td>\n",
       "      <td>False</td>\n",
       "      <td>False</td>\n",
       "      <td>False</td>\n",
       "      <td>False</td>\n",
       "      <td>False</td>\n",
       "    </tr>\n",
       "    <tr>\n",
       "      <th>2</th>\n",
       "      <td>False</td>\n",
       "      <td>False</td>\n",
       "      <td>False</td>\n",
       "      <td>False</td>\n",
       "      <td>False</td>\n",
       "      <td>False</td>\n",
       "      <td>False</td>\n",
       "      <td>False</td>\n",
       "      <td>False</td>\n",
       "      <td>False</td>\n",
       "      <td>False</td>\n",
       "    </tr>\n",
       "    <tr>\n",
       "      <th>3</th>\n",
       "      <td>False</td>\n",
       "      <td>False</td>\n",
       "      <td>False</td>\n",
       "      <td>False</td>\n",
       "      <td>True</td>\n",
       "      <td>False</td>\n",
       "      <td>False</td>\n",
       "      <td>False</td>\n",
       "      <td>False</td>\n",
       "      <td>False</td>\n",
       "      <td>False</td>\n",
       "    </tr>\n",
       "    <tr>\n",
       "      <th>4</th>\n",
       "      <td>False</td>\n",
       "      <td>False</td>\n",
       "      <td>False</td>\n",
       "      <td>False</td>\n",
       "      <td>False</td>\n",
       "      <td>False</td>\n",
       "      <td>False</td>\n",
       "      <td>False</td>\n",
       "      <td>False</td>\n",
       "      <td>False</td>\n",
       "      <td>False</td>\n",
       "    </tr>\n",
       "    <tr>\n",
       "      <th>...</th>\n",
       "      <td>...</td>\n",
       "      <td>...</td>\n",
       "      <td>...</td>\n",
       "      <td>...</td>\n",
       "      <td>...</td>\n",
       "      <td>...</td>\n",
       "      <td>...</td>\n",
       "      <td>...</td>\n",
       "      <td>...</td>\n",
       "      <td>...</td>\n",
       "      <td>...</td>\n",
       "    </tr>\n",
       "    <tr>\n",
       "      <th>3678</th>\n",
       "      <td>False</td>\n",
       "      <td>False</td>\n",
       "      <td>False</td>\n",
       "      <td>False</td>\n",
       "      <td>False</td>\n",
       "      <td>False</td>\n",
       "      <td>False</td>\n",
       "      <td>False</td>\n",
       "      <td>False</td>\n",
       "      <td>False</td>\n",
       "      <td>False</td>\n",
       "    </tr>\n",
       "    <tr>\n",
       "      <th>3679</th>\n",
       "      <td>False</td>\n",
       "      <td>False</td>\n",
       "      <td>False</td>\n",
       "      <td>False</td>\n",
       "      <td>False</td>\n",
       "      <td>False</td>\n",
       "      <td>False</td>\n",
       "      <td>False</td>\n",
       "      <td>False</td>\n",
       "      <td>False</td>\n",
       "      <td>False</td>\n",
       "    </tr>\n",
       "    <tr>\n",
       "      <th>3680</th>\n",
       "      <td>False</td>\n",
       "      <td>False</td>\n",
       "      <td>False</td>\n",
       "      <td>False</td>\n",
       "      <td>False</td>\n",
       "      <td>False</td>\n",
       "      <td>False</td>\n",
       "      <td>False</td>\n",
       "      <td>False</td>\n",
       "      <td>False</td>\n",
       "      <td>False</td>\n",
       "    </tr>\n",
       "    <tr>\n",
       "      <th>3681</th>\n",
       "      <td>False</td>\n",
       "      <td>False</td>\n",
       "      <td>False</td>\n",
       "      <td>False</td>\n",
       "      <td>False</td>\n",
       "      <td>False</td>\n",
       "      <td>False</td>\n",
       "      <td>False</td>\n",
       "      <td>False</td>\n",
       "      <td>False</td>\n",
       "      <td>False</td>\n",
       "    </tr>\n",
       "    <tr>\n",
       "      <th>3682</th>\n",
       "      <td>False</td>\n",
       "      <td>False</td>\n",
       "      <td>False</td>\n",
       "      <td>False</td>\n",
       "      <td>False</td>\n",
       "      <td>False</td>\n",
       "      <td>False</td>\n",
       "      <td>False</td>\n",
       "      <td>False</td>\n",
       "      <td>False</td>\n",
       "      <td>False</td>\n",
       "    </tr>\n",
       "  </tbody>\n",
       "</table>\n",
       "<p>3683 rows × 11 columns</p>\n",
       "</div>"
      ],
      "text/plain": [
       "      DeployID  County  DeployDate  Deployment Name  Primary Material   Tons  \\\n",
       "0        False   False       False            False             False  False   \n",
       "1        False   False       False            False             False  False   \n",
       "2        False   False       False            False             False  False   \n",
       "3        False   False       False            False              True  False   \n",
       "4        False   False       False            False             False  False   \n",
       "...        ...     ...         ...              ...               ...    ...   \n",
       "3678     False   False       False            False             False  False   \n",
       "3679     False   False       False            False             False  False   \n",
       "3680     False   False       False            False             False  False   \n",
       "3681     False   False       False            False             False  False   \n",
       "3682     False   False       False            False             False  False   \n",
       "\n",
       "      Relief  Depth  Lat (DM)  Long (DM)  Accuracy  \n",
       "0      False  False     False      False     False  \n",
       "1      False  False     False      False     False  \n",
       "2      False  False     False      False     False  \n",
       "3      False  False     False      False     False  \n",
       "4      False  False     False      False     False  \n",
       "...      ...    ...       ...        ...       ...  \n",
       "3678   False  False     False      False     False  \n",
       "3679   False  False     False      False     False  \n",
       "3680   False  False     False      False     False  \n",
       "3681   False  False     False      False     False  \n",
       "3682   False  False     False      False     False  \n",
       "\n",
       "[3683 rows x 11 columns]"
      ]
     },
     "execution_count": 66,
     "metadata": {},
     "output_type": "execute_result"
    }
   ],
   "source": [
    "#shows which values are null\n",
    "print('Data Nulls')\n",
    "data.isnull()"
   ]
  },
  {
   "cell_type": "code",
   "execution_count": 67,
   "metadata": {},
   "outputs": [
    {
     "name": "stdout",
     "output_type": "stream",
     "text": [
      "Data Nulls\n"
     ]
    },
    {
     "data": {
      "text/plain": [
       "DeployID            False\n",
       "County              False\n",
       "DeployDate          False\n",
       "Deployment Name     False\n",
       "Primary Material     True\n",
       "Tons                 True\n",
       "Relief               True\n",
       "Depth               False\n",
       "Lat (DM)            False\n",
       "Long (DM)           False\n",
       "Accuracy            False\n",
       "dtype: bool"
      ]
     },
     "execution_count": 67,
     "metadata": {},
     "output_type": "execute_result"
    }
   ],
   "source": [
    "#shows which columns have null values\n",
    "print('Data Nulls')\n",
    "data.isnull().any()"
   ]
  },
  {
   "cell_type": "code",
   "execution_count": 68,
   "metadata": {},
   "outputs": [
    {
     "name": "stdout",
     "output_type": "stream",
     "text": [
      "Data Nulls Shape Sum\n"
     ]
    },
    {
     "data": {
      "text/plain": [
       "DeployID            0.000000\n",
       "County              0.000000\n",
       "DeployDate          0.000000\n",
       "Deployment Name     0.000000\n",
       "Primary Material    0.000815\n",
       "Tons                0.000272\n",
       "Relief              0.000272\n",
       "Depth               0.000000\n",
       "Lat (DM)            0.000000\n",
       "Long (DM)           0.000000\n",
       "Accuracy            0.000000\n",
       "dtype: float64"
      ]
     },
     "execution_count": 68,
     "metadata": {},
     "output_type": "execute_result"
    }
   ],
   "source": [
    "#shows for each column the percentage of null values \n",
    "print('Data Nulls Shape Sum')\n",
    "data.isnull().sum() / data.shape[0]"
   ]
  },
  {
   "cell_type": "code",
   "execution_count": 69,
   "metadata": {},
   "outputs": [
    {
     "name": "stdout",
     "output_type": "stream",
     "text": [
      "Data History\n"
     ]
    },
    {
     "data": {
      "text/plain": [
       "array([[<matplotlib.axes._subplots.AxesSubplot object at 0x00000252EF3054C0>,\n",
       "        <matplotlib.axes._subplots.AxesSubplot object at 0x00000252EF49E6A0>],\n",
       "       [<matplotlib.axes._subplots.AxesSubplot object at 0x00000252EF2E1730>,\n",
       "        <matplotlib.axes._subplots.AxesSubplot object at 0x00000252EF317DC0>]],\n",
       "      dtype=object)"
      ]
     },
     "execution_count": 69,
     "metadata": {},
     "output_type": "execute_result"
    },
    {
     "data": {
      "image/png": "[encoded data removed]",
      "text/plain": [
       "<Figure size 432x288 with 4 Axes>"
      ]
     },
     "metadata": {
      "needs_background": "light"
     },
     "output_type": "display_data"
    }
   ],
   "source": [
    "#plot histograms for all numeric columns \n",
    "print('Data History')\n",
    "data.hist()"
   ]
  },
  {
   "cell_type": "code",
   "execution_count": 3,
   "metadata": {},
   "outputs": [
    {
     "name": "stdout",
     "output_type": "stream",
     "text": [
      "workbC:\\Users\\NOREL\n"
     ]
    }
   ],
   "source": []
  },
  {
   "cell_type": "code",
   "execution_count": null,
   "metadata": {},
   "outputs": [],
   "source": []
  }
 ],
 "metadata": {
  "kernelspec": {
   "display_name": "Python 3",
   "language": "python",
   "name": "python3"
  },
  "language_info": {
   "codemirror_mode": {
    "name": "ipython",
    "version": 3
   },
   "file_extension": ".py",
   "mimetype": "text/x-python",
   "name": "python",
   "nbconvert_exporter": "python",
   "pygments_lexer": "ipython3",
   "version": "3.8.3"
  }
 },
 "nbformat": 4,
 "nbformat_minor": 4
}
